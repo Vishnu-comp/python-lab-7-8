{
 "cells": [
  {
   "cell_type": "markdown",
   "metadata": {},
   "source": [
    "P7:Implement NumPy features\n",
    "Create an Employee table using a Structured array and answer the questions.\n",
    "\n",
    "1. How many Male employees are in a company?\n",
    "2. Display the details of employees whose Last_Name starts with S.\n",
    "3. Sort the Female Employee details in descending order based on First_Name.\n",
    "4. Extract 1D array and reshape it into 2D array.\n",
    "5. Extract the below matrix using Boolean and Fancy indexing."
   ]
  },
  {
   "cell_type": "code",
   "execution_count": 2,
   "metadata": {},
   "outputs": [],
   "source": [
    "import numpy as np\n",
    "import pandas as pd\n",
    "\n"
   ]
  },
  {
   "cell_type": "code",
   "execution_count": 43,
   "metadata": {},
   "outputs": [
    {
     "data": {
      "text/plain": [
       "array([(1000, 'Tobarti', 'Yolanda', 'F', 'Programmer'),\n",
       "       (1001, 'Klenin', 'Joel', 'M', 'Programmer'),\n",
       "       (1002, 'Ginsburg', 'Laura', 'F', 'President'),\n",
       "       (1003, 'Cox', 'Jennifer', 'F', 'Programmer'),\n",
       "       (1005, 'Ziada', 'Mauri', 'M', 'Product Designer'),\n",
       "       (1006, 'Keyser', 'Cara', 'F', 'Account Executive'),\n",
       "       (1010, 'Smith', 'Roxie', 'M', 'Programmer'),\n",
       "       (1011, 'Nelson', 'Robert', 'M', 'Programmer'),\n",
       "       (1012, 'Sachsen', 'Lars', 'M', 'Support Technician'),\n",
       "       (1013, 'Shanon', 'Don', 'M', 'Product Designer')],\n",
       "      dtype=[('Emp_id', '<i8'), ('Last_Name', '<U9'), ('First_Name', '<U9'), ('Gender', '<U2'), ('Title', '<U32')])"
      ]
     },
     "execution_count": 43,
     "metadata": {},
     "output_type": "execute_result"
    }
   ],
   "source": [
    "dtype = [(\"Emp_id\",'i8'),(\"Last_Name\",'U9'),(\"First_Name\",'U9'),('Gender','U2'),(\"Title\",'U32')]\n",
    "\n",
    "Employee_data = np.array([(1000,'Tobarti','Yolanda', 'F','Programmer'),\n",
    "                        (1001,'Klenin','Joel', 'M','Programmer'),\n",
    "                        (1002,'Ginsburg','Laura', 'F','President'),\n",
    "                        (1003,'Cox','Jennifer', 'F','Programmer'),\n",
    "                        (1005,'Ziada','Mauri', 'M','Product Designer'),\n",
    "                        (1006,'Keyser','Cara', 'F','Account Executive'),\n",
    "                        (1010,'Smith','Roxie', 'M','Programmer'),\n",
    "                        (1011,'Nelson','Robert', 'M','Programmer'),\n",
    "                        (1012,'Sachsen','Lars', 'M','Support Technician'),\n",
    "                        (1013,'Shanon','Don', 'M','Product Designer')] ,dtype= dtype)\n",
    "\n",
    "Employee_data"
   ]
  },
  {
   "cell_type": "markdown",
   "metadata": {},
   "source": [
    "1."
   ]
  },
  {
   "cell_type": "code",
   "execution_count": 64,
   "metadata": {},
   "outputs": [
    {
     "name": "stdout",
     "output_type": "stream",
     "text": [
      "10\n"
     ]
    }
   ],
   "source": [
    "print(len(Employee_data['Gender'] == 'M'))"
   ]
  },
  {
   "cell_type": "markdown",
   "metadata": {},
   "source": [
    "2."
   ]
  },
  {
   "cell_type": "code",
   "execution_count": 87,
   "metadata": {},
   "outputs": [
    {
     "name": "stdout",
     "output_type": "stream",
     "text": [
      "[(1010, 'Smith', 'Roxie', 'M', 'Programmer')\n",
      " (1012, 'Sachsen', 'Lars', 'M', 'Support Technician')\n",
      " (1013, 'Shanon', 'Don', 'M', 'Product Designer')]\n"
     ]
    }
   ],
   "source": [
    "print(Employee_data[list(map(lambda x: x[0] == 'S',Employee_data['Last_Name']))])"
   ]
  },
  {
   "cell_type": "markdown",
   "metadata": {},
   "source": [
    "3."
   ]
  },
  {
   "cell_type": "code",
   "execution_count": 95,
   "metadata": {},
   "outputs": [
    {
     "data": {
      "text/plain": [
       "[(1006, 'Keyser', 'Cara', 'F', 'Account Executive'),\n",
       " (1003, 'Cox', 'Jennifer', 'F', 'Programmer'),\n",
       " (1002, 'Ginsburg', 'Laura', 'F', 'President'),\n",
       " (1000, 'Tobarti', 'Yolanda', 'F', 'Programmer')]"
      ]
     },
     "execution_count": 95,
     "metadata": {},
     "output_type": "execute_result"
    }
   ],
   "source": [
    "sorted(Employee_data[Employee_data['Gender'] == 'F'],key = lambda x : x[2])"
   ]
  },
  {
   "cell_type": "markdown",
   "metadata": {},
   "source": [
    "4."
   ]
  },
  {
   "cell_type": "code",
   "execution_count": 96,
   "metadata": {},
   "outputs": [
    {
     "name": "stdout",
     "output_type": "stream",
     "text": [
      "[['Yolanda' 'Joel' 'Laura' 'Jennifer' 'Mauri']\n",
      " ['Cara' 'Roxie' 'Robert' 'Lars' 'Don']]\n"
     ]
    }
   ],
   "source": [
    "print(np.array(Employee_data['First_Name']).reshape(2,5))"
   ]
  },
  {
   "cell_type": "markdown",
   "metadata": {},
   "source": [
    "5."
   ]
  },
  {
   "cell_type": "code",
   "execution_count": 110,
   "metadata": {},
   "outputs": [
    {
     "name": "stdout",
     "output_type": "stream",
     "text": [
      "Using Boolean Indexing\n",
      "[(1002, 'Ginsburg', 'Laura', 'F', 'President')\n",
      " (1003, 'Cox', 'Jennifer', 'F', 'Programmer')\n",
      " (1005, 'Ziada', 'Mauri', 'M', 'Product Designer')\n",
      " (1006, 'Keyser', 'Cara', 'F', 'Account Executive')\n",
      " (1010, 'Smith', 'Roxie', 'M', 'Programmer')\n",
      " (1011, 'Nelson', 'Robert', 'M', 'Programmer')\n",
      " (1012, 'Sachsen', 'Lars', 'M', 'Support Technician')]\n",
      "Using Fancy Indexing\n",
      "[(1002, 'Ginsburg', 'Laura', 'F', 'President')\n",
      " (1003, 'Cox', 'Jennifer', 'F', 'Programmer')\n",
      " (1005, 'Ziada', 'Mauri', 'M', 'Product Designer')\n",
      " (1006, 'Keyser', 'Cara', 'F', 'Account Executive')\n",
      " (1010, 'Smith', 'Roxie', 'M', 'Programmer')\n",
      " (1011, 'Nelson', 'Robert', 'M', 'Programmer')\n",
      " (1012, 'Sachsen', 'Lars', 'M', 'Support Technician')]\n"
     ]
    }
   ],
   "source": [
    "print(\"Using Boolean Indexing\")\n",
    "boolean = np.array([0,0,1,1,1,1,1,1,1,0],dtype = 'bool')\n",
    "\n",
    "print(Employee_data[boolean])\n",
    "print(\"Using Fancy Indexing\")\n",
    "print(Employee_data[[2,3,4,5,6,7,8]])"
   ]
  },
  {
   "cell_type": "markdown",
   "metadata": {},
   "source": [
    "1. Import the domain dataset that you identi\n",
    "\n",
    "ied with missing values and perform the following.\n",
    "\n",
    "For each output, give the interpretation with respect to the imported dataset.\n",
    "2. Read the csv\n",
    "\n",
    "ile and create and understand the data frame using describe(), shape,\n",
    "\n",
    "info().\n",
    "3. Find if any missing values (null values) are in the data, handle all the rows with missing\n",
    "data in four different ways (delete, replace, f\n",
    "ill, b\n",
    "ill), and print the data frame.\n",
    "\n",
    "4. Filter based on any column using groupby().\n",
    "5. Select 20 samples randomly and Create a data frame with Hiraricle Index"
   ]
  },
  {
   "cell_type": "code",
   "execution_count": null,
   "metadata": {},
   "outputs": [],
   "source": []
  }
 ],
 "metadata": {
  "kernelspec": {
   "display_name": "venv",
   "language": "python",
   "name": "python3"
  },
  "language_info": {
   "codemirror_mode": {
    "name": "ipython",
    "version": 3
   },
   "file_extension": ".py",
   "mimetype": "text/x-python",
   "name": "python",
   "nbconvert_exporter": "python",
   "pygments_lexer": "ipython3",
   "version": "3.11.2"
  },
  "orig_nbformat": 4
 },
 "nbformat": 4,
 "nbformat_minor": 2
}
